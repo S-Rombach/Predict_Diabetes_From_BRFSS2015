{
 "cells": [
  {
   "cell_type": "markdown",
   "id": "0",
   "metadata": {},
   "source": [
    "# EDA of brfss_2015_transformed"
   ]
  },
  {
   "cell_type": "code",
   "execution_count": null,
   "id": "1",
   "metadata": {},
   "outputs": [],
   "source": [
    "import os\n",
    "import pandas as pd\n",
    "import numpy as np\n",
    "from matplotlib import pyplot as plt\n",
    "import seaborn as sns\n",
    "\n",
    "from src.config import DATA_SPLIT_DIR, TRAIN_RAW_FILENAME"
   ]
  },
  {
   "cell_type": "code",
   "execution_count": null,
   "id": "2",
   "metadata": {},
   "outputs": [],
   "source": [
    "df_raw = pd.read_csv(\n",
    "    os.path.join(DATA_SPLIT_DIR, TRAIN_RAW_FILENAME),\n",
    "    usecols=[\n",
    "        \"Diabetes_012\",\n",
    "        \"HighBP\",\n",
    "        \"HighChol\",\n",
    "        \"CholCheck\",\n",
    "        \"BMI\",\n",
    "        \"Smoker\",\n",
    "        \"Stroke\",\n",
    "        \"HeartDiseaseorAttack\",\n",
    "        \"PhysActivity\",\n",
    "        \"Fruits\",\n",
    "        \"Veggies\",\n",
    "        \"HvyAlcoholConsump\",\n",
    "        \"AnyHealthcare\",\n",
    "        \"NoDocbcCost\",\n",
    "        \"GenHlth\",\n",
    "        \"MentHlth\",\n",
    "        \"PhysHlth\",\n",
    "        \"DiffWalk\",\n",
    "        \"Sex\",\n",
    "        \"Age\",\n",
    "        \"Education\",\n",
    "        \"Income\",\n",
    "    ],\n",
    ")"
   ]
  },
  {
   "cell_type": "markdown",
   "id": "3",
   "metadata": {},
   "source": [
    "## First glance at raw data"
   ]
  },
  {
   "cell_type": "code",
   "execution_count": null,
   "id": "4",
   "metadata": {},
   "outputs": [],
   "source": [
    "display(df_raw.shape)"
   ]
  },
  {
   "cell_type": "code",
   "execution_count": null,
   "id": "5",
   "metadata": {},
   "outputs": [],
   "source": [
    "display(df_raw.info())"
   ]
  },
  {
   "cell_type": "code",
   "execution_count": null,
   "id": "6",
   "metadata": {},
   "outputs": [],
   "source": [
    "df_raw.isna().sum()"
   ]
  },
  {
   "cell_type": "markdown",
   "id": "7",
   "metadata": {},
   "source": [
    "#### Observation\n",
    "* There are missing values in every columns except `Sex`.\n",
    "* Only three columns contain numbers."
   ]
  },
  {
   "cell_type": "code",
   "execution_count": null,
   "id": "8",
   "metadata": {},
   "outputs": [],
   "source": [
    "df_raw.head().T"
   ]
  },
  {
   "cell_type": "code",
   "execution_count": null,
   "id": "9",
   "metadata": {},
   "outputs": [],
   "source": [
    "display(df_raw[df_raw.select_dtypes(include=\"number\").columns].describe())"
   ]
  },
  {
   "cell_type": "markdown",
   "id": "10",
   "metadata": {},
   "source": [
    "#### Observation\n",
    "* `BMI` has a very high maximum. Possibly an outlier.\n",
    "* Most features are severely skewed."
   ]
  },
  {
   "cell_type": "markdown",
   "id": "11",
   "metadata": {},
   "source": [
    "## Converted to intended datatype"
   ]
  },
  {
   "cell_type": "markdown",
   "id": "12",
   "metadata": {},
   "source": [
    "### Data Dictionary – Diabetes Health Indicators\n",
    "\n",
    "| Column                | Datatype   | Description                                                                 |\n",
    "|-----------------------|------------|-----------------------------------------------------------------------------|\n",
    "| `Diabetes_012`        | nominal    | 0 = no diabetes, 1 = prediabetes, 2 = diabetes                              |\n",
    "| `HighBP`              | nominal    | 0 = no high blood pressure, 1 = high blood pressure                         |\n",
    "| `HighChol`            | nominal    | 0 = no high cholesterol, 1 = high cholesterol                               |\n",
    "| `CholCheck`           | nominal    | 0 = no cholesterol check in 5 years, 1 = yes                                |\n",
    "| `BMI`                 | float      | Body Mass Index                                                             |\n",
    "| `Smoker`              | nominal    | Smoked ≥100 cigarettes in lifetime: 0 = no, 1 = yes                         |\n",
    "| `Stroke`              | nominal    | Ever told had a stroke: 0 = no, 1 = yes                                     |\n",
    "| `HeartDiseaseorAttack`| nominal    | CHD or MI history: 0 = no, 1 = yes                                          |\n",
    "| `PhysActivity`        | nominal    | Physical activity (last 30 days, non-job): 0 = no, 1 = yes                  |\n",
    "| `Fruits`              | nominal    | Consumes fruit ≥1×/day: 0 = no, 1 = yes                                     |\n",
    "| `Veggies`             | nominal    | Consumes vegetables ≥1×/day: 0 = no, 1 = yes                                |\n",
    "| `HvyAlcoholConsump`   | nominal    | Heavy drinker: 0 = no, 1 = yes                                              |\n",
    "| `AnyHealthcare`       | nominal    | Has health coverage: 0 = no, 1 = yes                                        |\n",
    "| `NoDocbcCost`         | nominal    | Missed doctor due to cost (last 12 months): 0 = no, 1 = yes                 |\n",
    "| `GenHlth`             | ordinal    | General health: 1 = excellent, ..., 5 = poor                                |\n",
    "| `MentHlth`            | int        | Days of poor mental health (last 30 days), 0–30                             |\n",
    "| `PhysHlth`            | int        | Days of poor physical health (last 30 days), 0–30                           |\n",
    "| `DiffWalk`            | nominal    | Serious difficulty walking/stairs: 0 = no, 1 = yes                          |\n",
    "| `Sex`                 | nominal    | 0 = female, 1 = male                                                        |\n",
    "| `Age`                 | ordinal    | Age category: 1 = 18–24, ..., 13 = 80+                                      |\n",
    "| `Education`           | ordinal    | Education level: 1 = none to kindergarten, ..., 6 = college grad           |\n",
    "| `Income`              | ordinal    | Income level: 1 = < $10k, ..., 8 = ≥ $75k                                   |\n",
    "\n"
   ]
  },
  {
   "cell_type": "code",
   "execution_count": null,
   "id": "13",
   "metadata": {},
   "outputs": [],
   "source": [
    "inverse_dict = {\n",
    "    \"Diabetes_012\": {\"no dia\": 0, \"pre\": 1, \"dia\": 2},\n",
    "    \"HighBP\": {\"n\": 0, \"y\": 1},\n",
    "    \"HighChol\": {\"n\": 0, \"y\": 1},\n",
    "    \"CholCheck\": {\"n\": 0, \"y\": 1},\n",
    "    \"Smoker\": {\"n\": 0, \"y\": 1},\n",
    "    \"Stroke\": {\"n\": 0, \"y\": 1},\n",
    "    \"HeartDiseaseorAttack\": {\"n\": 0, \"y\": 1},\n",
    "    \"PhysActivity\": {\"n\": 0, \"y\": 1},\n",
    "    \"Fruits\": {\"n\": 0, \"y\": 1},\n",
    "    \"Veggies\": {\"n\": 0, \"y\": 1},\n",
    "    \"HvyAlcoholConsump\": {\"n\": 0, \"y\": 1},\n",
    "    \"AnyHealthcare\": {\"n\": 0, \"y\": 1},\n",
    "    \"NoDocbcCost\": {\"n\": 0, \"y\": 1},\n",
    "    \"GenHlth\": {\"excellent\": 1, \"very good\": 2, \"good\": 3, \"fair\": 4, \"poor\": 5},\n",
    "    \"DiffWalk\": {\"n\": 0, \"y\": 1},\n",
    "    \"Sex\": {\"f\": 0, \"m\": 1},\n",
    "    \"Age\": {\n",
    "        \"18-24\": 1,\n",
    "        \"25-29\": 2,\n",
    "        \"30-34\": 3,\n",
    "        \"35-39\": 4,\n",
    "        \"40-44\": 5,\n",
    "        \"45-49\": 6,\n",
    "        \"50-54\": 7,\n",
    "        \"55-59\": 8,\n",
    "        \"60-64\": 9,\n",
    "        \"65-69\": 10,\n",
    "        \"70-74\": 11,\n",
    "        \"75-79\": 12,\n",
    "        \"80+\": 13,\n",
    "    },\n",
    "    \"Education\": {\n",
    "        \"no school\": 1,\n",
    "        \"elementary\": 2,\n",
    "        \"some high school\": 3,\n",
    "        \"high school graduate\": 4,\n",
    "        \"college\": 5,\n",
    "        \"college graduate\": 6,\n",
    "    },\n",
    "    \"Income\": {\n",
    "        \"<$10k\": 1,\n",
    "        \"<$15k\": 2,\n",
    "        \"<$20k\": 3,\n",
    "        \"<$25k\": 4,\n",
    "        \"<$35k\": 5,\n",
    "        \"<$50k\": 6,\n",
    "        \"<$75k\": 7,\n",
    "        \">$75k\": 8,\n",
    "    },\n",
    "}"
   ]
  },
  {
   "cell_type": "markdown",
   "id": "14",
   "metadata": {},
   "source": [
    "### Conversion"
   ]
  },
  {
   "cell_type": "code",
   "execution_count": null,
   "id": "15",
   "metadata": {},
   "outputs": [],
   "source": [
    "nom_cat_cols = [\n",
    "    \"HighBP\",\n",
    "    \"HighChol\",\n",
    "    \"CholCheck\",\n",
    "    \"Smoker\",\n",
    "    \"Stroke\",\n",
    "    \"HeartDiseaseorAttack\",\n",
    "    \"PhysActivity\",\n",
    "    \"Fruits\",\n",
    "    \"Veggies\",\n",
    "    \"HvyAlcoholConsump\",\n",
    "    \"AnyHealthcare\",\n",
    "    \"NoDocbcCost\",\n",
    "    \"DiffWalk\",\n",
    "    \"Sex\",\n",
    "]\n",
    "\n",
    "\n",
    "df_raw[nom_cat_cols] = df_raw[nom_cat_cols].astype(\"category\")\n",
    "\n",
    "ord_cat_cols = [\"GenHlth\", \"Age\", \"Education\", \"Income\", \"Diabetes_012\"]\n",
    "\n",
    "for col in ord_cat_cols:\n",
    "    df_raw[col] = pd.Categorical(df_raw[col], categories=inverse_dict[col].keys(), ordered=True)\n"
   ]
  },
  {
   "cell_type": "markdown",
   "id": "16",
   "metadata": {},
   "source": [
    "## Info, Describe, Overview"
   ]
  },
  {
   "cell_type": "code",
   "execution_count": null,
   "id": "17",
   "metadata": {},
   "outputs": [],
   "source": [
    "df_raw.info()"
   ]
  },
  {
   "cell_type": "code",
   "execution_count": null,
   "id": "18",
   "metadata": {},
   "outputs": [],
   "source": [
    "display(df_raw.loc[:, df_raw.select_dtypes(include=\"number\").columns].describe())"
   ]
  },
  {
   "cell_type": "code",
   "execution_count": null,
   "id": "19",
   "metadata": {},
   "outputs": [],
   "source": [
    "def overview(df):\n",
    "    \"\"\"\n",
    "    Creates and prints an overview of the DataFrame including data types, counts, missing values,\n",
    "    unique values, and some basic statistics.\n",
    "    \"\"\"\n",
    "    from pandas.api.types import is_numeric_dtype\n",
    "\n",
    "    def normalized_entropy_cat(series: pd.Series) -> float:\n",
    "        \"\"\"\n",
    "        Compute the normalized Shannon entropy of a categorical distribution.\n",
    "\n",
    "        | Entropy in [0,1]| Interpretation         | Example class distribution   |\n",
    "        | --------------- | ---------------------- | ---------------------------- |\n",
    "        | 0.00 - 0.20     | Extremely imbalanced   | e.g. 99% / 1%                |\n",
    "        | 0.20 - 0.40     | Strongly imbalanced    | e.g. 90% / 10% or 80/10/10   |\n",
    "        | 0.40 - 0.60     | Moderately imbalanced  | e.g. 70/30 or 60/20/20       |\n",
    "        | 0.60 - 0.80     | Slightly imbalanced    | e.g. 50/25/25                |\n",
    "        | 0.80 - 1.00     | Balanced               | e.g. 33/33/33 or 25/25/25/25 |\n",
    "\n",
    "\n",
    "        Returns 0 if only one class is present, 1 for perfectly uniform distribution.\n",
    "        \"\"\"\n",
    "        counts = series.value_counts(normalize=True)\n",
    "        entropy = -np.sum(counts * np.log2(counts))\n",
    "        max_entropy = np.log2(len(counts)) if len(counts) > 1 else 1\n",
    "        return entropy / max_entropy\n",
    "\n",
    "    display(\n",
    "        pd.DataFrame(\n",
    "            {\n",
    "                \"dtype\": df.dtypes,\n",
    "                \"total\": df.count(),\n",
    "                \"missing\": df.isna().sum(),\n",
    "                \"missing%\": df.isna().mean() * 100,\n",
    "                \"n_uniques\": df.nunique(),\n",
    "                \"uniques%\": df.nunique() / df.shape[0] * 100,\n",
    "                \"uniques\": [sorted((str(x) for x in df[col].unique())) for col in df.columns],\n",
    "                \"non-numeric\": [\n",
    "                    list(\n",
    "                        df[col][pd.to_numeric(df[col], errors=\"coerce\").isna()].unique()\n",
    "                    )\n",
    "                    for col in df.columns\n",
    "                ],\n",
    "                \"dev from mean\": [\n",
    "                    (\n",
    "                        (\n",
    "                            round(\n",
    "                                ((df[col].mean() - df[col].min()) / df[col].std()), 1\n",
    "                            ),\n",
    "                            round(\n",
    "                                ((df[col].max() - df[col].mean()) / df[col].std()), 1\n",
    "                            ),\n",
    "                        )\n",
    "                        if is_numeric_dtype(df[col])\n",
    "                        else pd.NA\n",
    "                    )\n",
    "                    for col in df.columns\n",
    "                ],\n",
    "                \"most/least freq\": [\n",
    "                    (\n",
    "                        (\n",
    "                            {\n",
    "                                df[col].value_counts().index[i]: list(\n",
    "                                    df[col].value_counts()\n",
    "                                )[i]\n",
    "                                for i in (0, -1)\n",
    "                            }\n",
    "                        )\n",
    "                        if not is_numeric_dtype(df[col])\n",
    "                        else pd.NA\n",
    "                    )\n",
    "                    for col in df.columns\n",
    "                ],\n",
    "                \"norm entropy\": [\n",
    "                    round(normalized_entropy_cat(df[col]), 2)\n",
    "                    if isinstance(df[col].dtype, pd.CategoricalDtype)\n",
    "                    else pd.NA\n",
    "                    for col in df.columns\n",
    "                ],\n",
    "            }\n",
    "        )\n",
    "    )\n",
    "\n",
    "\n",
    "overview(df_raw)"
   ]
  },
  {
   "cell_type": "markdown",
   "id": "20",
   "metadata": {},
   "source": [
    "#### Observation\n",
    "* `Age`, `Education`, `Income`, `Diabetes_012` are categories with more than two values. All other categories are logical.\n",
    "* The target `Diabetes_012` is imbalanced.\n",
    "* `BMI` contains values further than 10 standard deviations from the mean. Check for outliers.\n",
    "* `Stroke`, `HvyAlcoholConsump`,  `HvyAlcoholConsump` are strongly unbalanced.\n",
    "* `HeartDiseaseorAttack`, `NoDocbcCost` are moderately unbalanced."
   ]
  },
  {
   "cell_type": "markdown",
   "id": "21",
   "metadata": {},
   "source": [
    "## Crosstabs"
   ]
  },
  {
   "cell_type": "markdown",
   "id": "22",
   "metadata": {},
   "source": [
    "#### Observation\n",
    "* The ratio of persons with diabetes do not differ by more than two percentage points in nominal features. Most are less than that.\n",
    "* Persons with `HighBP`, `HighChol`, `Stroke`, `HeartDiseaseOrAttack` have an at least five percentage points higher ratio of prediabetes.\n",
    "* Persons with `PhysActivity`, `HvyAlcoholConsump`, `DiffWalk` have an at least five percentage points lower ratio of prediabetes.\n",
    "* Ordinal categories suggest a correlation between increasing values and state of health."
   ]
  },
  {
   "cell_type": "code",
   "execution_count": null,
   "id": "23",
   "metadata": {},
   "outputs": [],
   "source": [
    "%%time\n",
    "import matplotlib.pyplot as plt\n",
    "\n",
    "counts = df_raw[\"Diabetes_012\"].value_counts(normalize=True).sort_index()\n",
    "\n",
    "plt.figure(figsize=(4, 4))\n",
    "plt.pie(\n",
    "    counts.values,\n",
    "    labels=counts.index,\n",
    "    autopct=lambda p: f\"{p:.3f}%\",\n",
    "    startangle=90,\n",
    "    counterclock=False,\n",
    ")\n",
    "plt.title(\"Proportion of 'Diabetes_012' classes\")\n",
    "plt.tight_layout()\n",
    "plt.show()"
   ]
  },
  {
   "cell_type": "code",
   "execution_count": null,
   "id": "24",
   "metadata": {},
   "outputs": [],
   "source": [
    "def catplot(df, x, y):\n",
    "    \"\"\"Display a barplot of a normalized crosstab between x and y and an absolute crosstab for a sanity check.\n",
    "    ARGS:\n",
    "        x: Crosstab 'index' column\n",
    "        y: Crosstab 'columns' column (default: eda['Infected'])\n",
    "    RETURNS: None\n",
    "    \"\"\"\n",
    "\n",
    "    ncols = 2\n",
    "    fig, ax = plt.subplots(nrows=1, ncols=ncols, figsize=(16, 2))\n",
    "\n",
    "    crosstab_abs = pd.crosstab(index=df[x], columns=df[y])\n",
    "    crosstab_rel = pd.crosstab(index=df[x], columns=df[y], normalize=\"index\")\n",
    "\n",
    "    # Plot them side by side\n",
    "    crosstab_abs.plot(\n",
    "        kind=\"bar\",\n",
    "        ax=ax[0],\n",
    "        title=f\"Absolute Distribution of diabetes in {x}\",\n",
    "        legend=False,\n",
    "    )\n",
    "    crosstab_rel.plot(\n",
    "        kind=\"bar\",\n",
    "        ax=ax[1],\n",
    "        title=f\"Relative Distribution of diabetes in {x}\",\n",
    "        legend=False,\n",
    "    )\n",
    "    ax[1].legend(loc=\"center left\", bbox_to_anchor=(1.0, 0.5))\n",
    "    for p in ax[1].patches:\n",
    "        height = p.get_height()\n",
    "        if not pd.isna(height) and height > 0:\n",
    "            ax[1].annotate(\n",
    "                f\"{height:.2f}\",\n",
    "                (p.get_x() + p.get_width() / 2, height),\n",
    "                ha=\"center\",\n",
    "                va=\"bottom\",\n",
    "                fontsize=8,\n",
    "            )\n",
    "\n",
    "\n",
    "    for i in range(ncols):\n",
    "        ax[i].set_xlabel(x)\n",
    "        ax[i].set_xticklabels(ax[i].get_xticklabels(), rotation=0)\n",
    "        ax[i].grid(axis=\"y\", linestyle=\"--\", alpha=0.7)\n",
    "        ax[i].set_yscale(\"log\")\n",
    "\n",
    "    handles, labels = ax[1].get_legend_handles_labels()\n",
    "    color_map = dict(zip(labels, [h[0].get_facecolor() for h in handles]))\n",
    "    for col in crosstab_rel.columns:\n",
    "        mean_val = crosstab_rel[col].mean()\n",
    "        color= color_map.get(col)\n",
    "        ax[1].axhline(y=mean_val, color=color,  linestyle=\"--\", linewidth=0.75)\n",
    "\n",
    "\n",
    "    ax[0].set_ylabel(\"Count\")\n",
    "    ax[1].set_ylabel(\"Ratio\")\n",
    "    plt.tight_layout()\n",
    "    plt.show()"
   ]
  },
  {
   "cell_type": "code",
   "execution_count": null,
   "id": "25",
   "metadata": {},
   "outputs": [],
   "source": [
    "cat_cols = [\n",
    "    c for c in df_raw.select_dtypes(include=\"category\").columns if c != \"Diabetes_012\"\n",
    "]\n",
    "\n",
    "for c in cat_cols:\n",
    "    catplot(df_raw, x=c, y=\"Diabetes_012\")"
   ]
  },
  {
   "cell_type": "markdown",
   "id": "26",
   "metadata": {},
   "source": [
    "## Pairplots"
   ]
  },
  {
   "cell_type": "markdown",
   "id": "27",
   "metadata": {},
   "source": [
    "### Observation\n",
    "* No relevant differences are visible between the pairplots\n",
    "* `MenHlth` and `PhysHlth` have more entries on counts divisible by 5. Possibly just the human need for beauty."
   ]
  },
  {
   "cell_type": "markdown",
   "id": "28",
   "metadata": {},
   "source": [
    "### Numeric columns"
   ]
  },
  {
   "cell_type": "code",
   "execution_count": null,
   "id": "29",
   "metadata": {},
   "outputs": [],
   "source": [
    "%%time\n",
    "sns.pairplot(data=df_raw, plot_kws={\"alpha\": 0.1, \"s\": 10}, hue=\"Diabetes_012\")\n",
    "plt.suptitle(\"Pairplots of all numeric features\", y=1.02)\n",
    "plt.show();"
   ]
  },
  {
   "cell_type": "markdown",
   "id": "30",
   "metadata": {},
   "source": [
    "### Classes\n",
    "Splitting the classes in different plots may help identify patterns otherwise obscured by overlapping points."
   ]
  },
  {
   "cell_type": "markdown",
   "id": "31",
   "metadata": {},
   "source": [
    "#### Observation\n",
    "No pattern were spotted."
   ]
  },
  {
   "cell_type": "code",
   "execution_count": null,
   "id": "32",
   "metadata": {},
   "outputs": [],
   "source": [
    "%%time\n",
    "for dia_cls in df_raw[\"Diabetes_012\"].cat.categories:\n",
    "    sns.pairplot(\n",
    "        data=df_raw[df_raw[\"Diabetes_012\"] == dia_cls],\n",
    "        plot_kws={\"alpha\": 0.1, \"s\": 10},\n",
    "        hue=\"Diabetes_012\",\n",
    "    )\n",
    "    plt.suptitle(f\"Pairplots of all numeric features for diabetes class '{dia_cls}'\", y=1.02)\n",
    "    plt.show();"
   ]
  },
  {
   "cell_type": "markdown",
   "id": "33",
   "metadata": {},
   "source": [
    "### Sex"
   ]
  },
  {
   "cell_type": "code",
   "execution_count": null,
   "id": "34",
   "metadata": {},
   "outputs": [],
   "source": [
    "%%time\n",
    "feature = \"Sex\"\n",
    "for cat in df_raw[feature].cat.categories:\n",
    "    sns.pairplot(\n",
    "        data=df_raw[df_raw[feature] == cat],\n",
    "        plot_kws={\"alpha\": 0.1, \"s\": 10},\n",
    "        hue=\"Diabetes_012\",\n",
    "    )\n",
    "    plt.suptitle(f\"Pairplots of all numeric features for category '{cat}' of feature '{feature}'\", y=1.02)\n",
    "    plt.show();"
   ]
  },
  {
   "cell_type": "markdown",
   "id": "35",
   "metadata": {},
   "source": [
    "#### Pairplots Women"
   ]
  },
  {
   "cell_type": "code",
   "execution_count": null,
   "id": "36",
   "metadata": {},
   "outputs": [],
   "source": [
    "%%time\n",
    "sns.pairplot(\n",
    "    data=df_raw[df_raw[\"Sex\"] == \"f\"],\n",
    "    plot_kws={\"alpha\": 0.1, \"s\": 10},\n",
    "    hue=\"Diabetes_012\",\n",
    ")\n",
    "plt.suptitle(\"Pairplots of numeric features for women\", y=1.02)\n",
    "plt.show();"
   ]
  },
  {
   "cell_type": "markdown",
   "id": "37",
   "metadata": {},
   "source": [
    "#### Pairplots Men"
   ]
  },
  {
   "cell_type": "code",
   "execution_count": null,
   "id": "38",
   "metadata": {},
   "outputs": [],
   "source": [
    "%%time\n",
    "sns.pairplot(\n",
    "    data=df_raw[df_raw[\"Sex\"] == \"m\"],\n",
    "    plot_kws={\"alpha\": 0.1, \"s\": 10},\n",
    "    hue=\"Diabetes_012\",\n",
    ")\n",
    "plt.suptitle(\"Pairplots of numeric features for men\", y=1.02)\n",
    "plt.show();"
   ]
  },
  {
   "cell_type": "markdown",
   "id": "39",
   "metadata": {},
   "source": [
    "## Correlations"
   ]
  },
  {
   "cell_type": "markdown",
   "id": "40",
   "metadata": {},
   "source": [
    "#### Observations\n",
    "* There are notable correlations between \n",
    "  * `GenHlth`, `PhysHlth` and `DiffWalk`. These seem reasonable.\n",
    "  * `Education` and `Income`. Also reasonable.\n",
    "* There are lower, but still notable correlations between\n",
    "  * `Diabetes_012`, `GenHlth`\n",
    "  * `GenHlth`, `Diabetes_012`, `HighBP`, `Income`\n",
    "  * `MenHlth`, `GenHlth`\n",
    "  * `MenHlth`, `PhysHlth`\n",
    "  * `Income`, `GenHlth`, `DiffWalk`, last one somewhat surprising\n",
    "\n",
    "#### Conclusion\n",
    "Relevant correlations are present. Appropriate feature selection must be conducted."
   ]
  },
  {
   "cell_type": "code",
   "execution_count": null,
   "id": "41",
   "metadata": {},
   "outputs": [],
   "source": [
    "df_raw_copy = df_raw.loc[:, ord_cat_cols + list(df_raw.select_dtypes(include=[\"number\"]).columns)].copy()\n",
    "for c in ord_cat_cols:\n",
    "    df_raw_copy[c] = df_raw_copy[c].cat.codes\n",
    "    \n",
    "corr = df_raw_copy.corr()\n",
    "mask = np.abs(corr) < 0.3\n",
    "annot = corr.round(2).astype(str)\n",
    "annot[mask] = \"\"\n",
    "\n",
    "plt.figure(figsize=(7, 5))\n",
    "sns.heatmap(\n",
    "    corr,\n",
    "    annot=annot,\n",
    "    fmt=\"\",\n",
    "    cmap=\"coolwarm\",\n",
    "    vmin=-1,\n",
    "    vmax=1,\n",
    ")\n",
    "\n",
    "plt.title(\"Correlations between numerical and ordinal columns\", y=1.02)\n",
    "plt.show();\n",
    "\n",
    "del df_raw_copy"
   ]
  },
  {
   "cell_type": "markdown",
   "id": "42",
   "metadata": {},
   "source": [
    "## Outlier Detection"
   ]
  },
  {
   "cell_type": "markdown",
   "id": "43",
   "metadata": {},
   "source": [
    "#### Observations\n",
    "* Up to about 70 `BMI` has a clean distribution. From then on spikes appear with no visible reason. The distribution of diabetes looks similar to the whole distribution.\n",
    "* `MentHlth` and `PhysHlth` have most of their values at 0. The distribution of diabetes looks similar to the whole distribution.\n",
    "\n",
    "#### Conclusion\n",
    "* Check the validity of the very high BMI-values.\n",
    "* No outliers found."
   ]
  },
  {
   "cell_type": "code",
   "execution_count": null,
   "id": "44",
   "metadata": {},
   "outputs": [],
   "source": [
    "from statsmodels.robust import mad\n",
    "import pandas as pd\n",
    "import numpy as np\n",
    "import matplotlib.pyplot as plt\n",
    "import seaborn as sns\n",
    "\n",
    "\n",
    "def mark_outliers_mad(\n",
    "    df,\n",
    "    std=3,\n",
    "    show_cum=False,\n",
    "    show_interesting_rows=False,\n",
    "    interesting_rows=None,\n",
    "    return_masks=False,\n",
    "):\n",
    "    \"\"\"\n",
    "    Detect and visualize outliers in numeric columns using the MAD (Median Absolute Deviation) method.\n",
    "\n",
    "    Parameters\n",
    "    ----------\n",
    "    df : pd.DataFrame\n",
    "        Input DataFrame containing the data.\n",
    "    std : float, optional\n",
    "        Threshold in MAD units to define outliers (default is 3).\n",
    "    show_cum : bool, optional\n",
    "        If True, show cumulative distribution plots with outlier thresholds.\n",
    "    show_interesting_rows : bool, optional\n",
    "        If True, show histogram restricted to interesting_rows.\n",
    "    interesting_rows : pd.Series[bool], optional\n",
    "        Boolean mask indicating rows of interest.\n",
    "    return_masks : bool, optional\n",
    "        If True, return dictionary of boolean masks marking outliers per column.\n",
    "\n",
    "    Returns\n",
    "    -------\n",
    "    dict (optional)\n",
    "        Dictionary of boolean Series with outlier masks for each numeric column.\n",
    "    \"\"\"\n",
    "\n",
    "    def get_mad_outliers_mask(df, column, std=3):\n",
    "        x = df.loc[df[column].notna(), column]\n",
    "        outliers = (abs(x - x.median()) / mad(x)) >= std\n",
    "\n",
    "        mask = pd.Series(False, index=df.index)\n",
    "        mask.loc[x.index] = outliers\n",
    "        return mask\n",
    "\n",
    "    outlier_masks = {}\n",
    "    numeric_cols = df.select_dtypes(include=\"number\").columns.tolist()\n",
    "\n",
    "    column_config = {col: {} for col in numeric_cols}\n",
    "\n",
    "    show_interesting_rows = show_interesting_rows and (interesting_rows is not None)\n",
    "\n",
    "    ncols = 1 + sum([show_cum, show_interesting_rows])\n",
    "    fig, ax = plt.subplots(\n",
    "        nrows=len(numeric_cols), ncols=ncols, figsize=(14, len(numeric_cols) * 2 + 2)\n",
    "    )\n",
    "\n",
    "    if len(numeric_cols) == 1 and ncols == 1:\n",
    "        ax = np.array([[ax]])\n",
    "    elif len(numeric_cols) == 1:\n",
    "        ax = np.atleast_2d(ax)\n",
    "    elif ncols == 1:\n",
    "        ax = np.atleast_2d(ax).T\n",
    "\n",
    "    for idx, col in enumerate(numeric_cols):\n",
    "        config = column_config[col]\n",
    "        axe = ax[idx, 0]\n",
    "        outlier_mask = get_mad_outliers_mask(df, col, std)\n",
    "\n",
    "        if return_masks:\n",
    "            outlier_masks[col] = outlier_mask\n",
    "\n",
    "        df_temp = pd.concat(\n",
    "            [df, pd.DataFrame({f\"mad_{std}_outlier\": outlier_mask})], axis=1\n",
    "        )\n",
    "\n",
    "        sns.histplot(data=df_temp, x=col, ax=axe, hue=f\"mad_{std}_outlier\", bins=100)\n",
    "        axe.set_yscale(\"log\")\n",
    "        axe.set_title(f\"Histogram: {col}\")\n",
    "\n",
    "        if show_interesting_rows:\n",
    "            prev_axe = axe\n",
    "            axe = ax[idx, 1]\n",
    "            axe.set_xlim(prev_axe.get_xlim())\n",
    "            axe.set_ylim(prev_axe.get_ylim())\n",
    "\n",
    "            df_temp = pd.concat(\n",
    "                [df[[col]].copy(), pd.DataFrame({f\"mad_{std}_outlier\": outlier_mask})],\n",
    "                axis=1,\n",
    "            )\n",
    "            df_temp.loc[~interesting_rows, col] = np.nan\n",
    "\n",
    "            sns.histplot(data=df_temp, x=col, ax=axe, hue=f\"mad_{std}_outlier\", bins=100)\n",
    "            axe.set_yscale(\"log\")\n",
    "            axe.set_title(f\"Subset histogram: {col}\")\n",
    "\n",
    "        if show_cum:\n",
    "            lower_threshold = df[~outlier_mask][col].min()\n",
    "            upper_threshold = df[~outlier_mask][col].max()\n",
    "\n",
    "            axe = ax[idx, 1 + show_interesting_rows]\n",
    "            sns.ecdfplot(df[col].dropna(), ax=axe)\n",
    "\n",
    "            axe.axvline(\n",
    "                x=lower_threshold, color=\"blue\", linestyle=\"--\", label=\"lower threshold\"\n",
    "            )\n",
    "            axe.axvline(\n",
    "                x=upper_threshold, color=\"red\", linestyle=\"--\", label=\"upper threshold\"\n",
    "            )\n",
    "\n",
    "            col_data = df[col].dropna()\n",
    "            outlier_low = (col_data < lower_threshold).mean()\n",
    "            outlier_high = (col_data > upper_threshold).mean()\n",
    "\n",
    "            axe.set_title(\n",
    "                f\"CDF: {col}\\n\"\n",
    "                f\"Outliers < {lower_threshold:.2f}: {outlier_low:.3f} | \"\n",
    "                f\"> {upper_threshold:.2f}: {outlier_high:.3f}\"\n",
    "            )\n",
    "            axe.legend()\n",
    "\n",
    "    plt.suptitle(f\"MAD Outlier Detection (±{std} MAD)\", fontsize=16, y=1.02)\n",
    "    plt.tight_layout()\n",
    "    plt.show()\n",
    "\n",
    "    if return_masks:\n",
    "        return outlier_masks\n"
   ]
  },
  {
   "cell_type": "code",
   "execution_count": null,
   "id": "45",
   "metadata": {},
   "outputs": [],
   "source": [
    "mark_outliers_mad(\n",
    "    df_raw,\n",
    "    show_interesting_rows=True,\n",
    "    interesting_rows=df_raw[\"Diabetes_012\"] != \"no dia\",\n",
    "    show_cum=True,\n",
    ")"
   ]
  }
 ],
 "metadata": {
  "kernelspec": {
   "display_name": "predict-diabetes-from-brfss2015",
   "language": "python",
   "name": "python3"
  },
  "language_info": {
   "codemirror_mode": {
    "name": "ipython",
    "version": 3
   },
   "file_extension": ".py",
   "mimetype": "text/x-python",
   "name": "python",
   "nbconvert_exporter": "python",
   "pygments_lexer": "ipython3",
   "version": "3.12.11"
  }
 },
 "nbformat": 4,
 "nbformat_minor": 5
}
