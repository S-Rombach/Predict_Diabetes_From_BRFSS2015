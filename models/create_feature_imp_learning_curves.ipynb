{
 "cells": [
  {
   "cell_type": "markdown",
   "id": "0",
   "metadata": {},
   "source": [
    "# Creation of feature importances and learning curves"
   ]
  },
  {
   "cell_type": "markdown",
   "id": "1",
   "metadata": {},
   "source": [
    "## Init config"
   ]
  },
  {
   "cell_type": "code",
   "execution_count": null,
   "id": "2",
   "metadata": {},
   "outputs": [],
   "source": [
    "import os\n",
    "import numpy as np\n",
    "import pandas as pd\n",
    "from datetime import datetime\n",
    "\n",
    "from src.config import (\n",
    "    DATA_SPLIT_DIR,\n",
    "    TRAIN_RAW_FILENAME,\n",
    "    MODELS_DIR\n",
    ")\n",
    "from src.model_evaluation import (\n",
    "    save_feature_importances_data,\n",
    "    plot_feature_importances_from_file,\n",
    "    save_learning_curve_data,\n",
    "    plot_learning_curves_from_file,\n",
    ")"
   ]
  },
  {
   "cell_type": "markdown",
   "id": "3",
   "metadata": {},
   "source": [
    "## Load train data"
   ]
  },
  {
   "cell_type": "code",
   "execution_count": null,
   "id": "4",
   "metadata": {},
   "outputs": [],
   "source": [
    "df_train_raw = pd.read_csv(os.path.join(DATA_SPLIT_DIR, TRAIN_RAW_FILENAME))\n",
    "features_train_raw = df_train_raw.drop(\"Diabetes_012\", axis=1)\n",
    "target_train_raw = df_train_raw[\"Diabetes_012\"]"
   ]
  },
  {
   "cell_type": "markdown",
   "id": "5",
   "metadata": {},
   "source": [
    "## Evaluation"
   ]
  },
  {
   "cell_type": "code",
   "execution_count": null,
   "id": "6",
   "metadata": {},
   "outputs": [],
   "source": [
    "# model_name = \"20250709122645_DecisionTreeClassifier_f100772_baseline_smote\"\n",
    "# folder = os.path.join(\n",
    "#     r\"D:\\Projekte\\Predict_Diabetes_From_BRFSS2015_old\\debugmodels\", model_name\n",
    "# )  # os.path.join(MODELS_DIR, model_name)\n",
    "# filename = os.path.join(folder, model_name)"
   ]
  },
  {
   "cell_type": "code",
   "execution_count": null,
   "id": "7",
   "metadata": {},
   "outputs": [],
   "source": [
    "for subdir_name in os.listdir(MODELS_DIR):\n",
    "    model_folder = os.path.join(MODELS_DIR, subdir_name)\n",
    "    if not os.path.isdir(model_folder):\n",
    "        continue\n",
    "    print()\n",
    "    print(\"#####################################\")\n",
    "    print(subdir_name)\n",
    "    print()\n",
    "\n",
    "    start_timestamp = datetime.now()\n",
    "\n",
    "    save_feature_importances_data(\n",
    "        model_folder,\n",
    "        X=features_train_raw,\n",
    "        y=target_train_raw,\n",
    "    )\n",
    "\n",
    "    plot_feature_importances_from_file(model_folder)\n",
    "\n",
    "    end_timestamp = datetime.now()\n",
    "    td = end_timestamp - start_timestamp\n",
    "    print(\n",
    "        f\"feature importance duration {td.days} d {(td.seconds // 3600)} h\"\n",
    "        f\" {(td.seconds % 3600) // 60} m {td.seconds % 60} s\"\n",
    "    )\n",
    "\n",
    "    start_timestamp = datetime.now()\n",
    "\n",
    "    save_learning_curve_data(\n",
    "        model_folder,\n",
    "        X=features_train_raw,\n",
    "        y=target_train_raw,\n",
    "        cv=2,\n",
    "        scoring=\"f1_macro\",\n",
    "        n_jobs=-1,\n",
    "        train_sizes=np.linspace(0.1, 1.0, 2),\n",
    "    )\n",
    "\n",
    "    plot_learning_curves_from_file(model_folder)\n",
    "\n",
    "    end_timestamp = datetime.now()\n",
    "    td = end_timestamp - start_timestamp\n",
    "    print(\n",
    "        f\"learning curve duration {td.days} d {(td.seconds // 3600)} h\"\n",
    "        f\" {(td.seconds % 3600) // 60} m {td.seconds % 60} s\"\n",
    "    )\n",
    "    print()"
   ]
  }
 ],
 "metadata": {
  "kernelspec": {
   "display_name": "predict-diabetes-from-brfss2015",
   "language": "python",
   "name": "python3"
  },
  "language_info": {
   "codemirror_mode": {
    "name": "ipython",
    "version": 3
   },
   "file_extension": ".py",
   "mimetype": "text/x-python",
   "name": "python",
   "nbconvert_exporter": "python",
   "pygments_lexer": "ipython3",
   "version": "3.12.11"
  }
 },
 "nbformat": 4,
 "nbformat_minor": 5
}
