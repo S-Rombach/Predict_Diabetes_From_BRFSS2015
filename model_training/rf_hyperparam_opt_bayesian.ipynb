{
 "cells": [
  {
   "cell_type": "markdown",
   "id": "0",
   "metadata": {
    "tags": []
   },
   "source": [
    "# Hyperparameter optimization `no dia` vs (`pre`, `dia`)"
   ]
  },
  {
   "cell_type": "markdown",
   "id": "1",
   "metadata": {},
   "source": [
    "## Init config"
   ]
  },
  {
   "cell_type": "code",
   "execution_count": 1,
   "id": "2",
   "metadata": {},
   "outputs": [],
   "source": [
    "ordinal_orders = {\n",
    "    \"GenHlth\": [\"excellent\", \"very good\", \"good\", \"fair\", \"poor\"],\n",
    "    \"Age\": [\n",
    "        \"18-24\",\n",
    "        \"25-29\",\n",
    "        \"30-34\",\n",
    "        \"35-39\",\n",
    "        \"40-44\",\n",
    "        \"45-49\",\n",
    "        \"50-54\",\n",
    "        \"55-59\",\n",
    "        \"60-64\",\n",
    "        \"65-69\",\n",
    "        \"70-74\",\n",
    "        \"75-79\",\n",
    "        \"80+\",\n",
    "    ],\n",
    "    \"Education\": [\n",
    "        \"no school\",\n",
    "        \"elementary\",\n",
    "        \"some high school\",\n",
    "        \"high school graduate\",\n",
    "        \"college\",\n",
    "        \"college graduate\",\n",
    "    ],\n",
    "    \"Income\": [\"<$10k\", \"<$15k\", \"<$20k\", \"<$25k\", \"<$35k\", \"<$50k\", \"<$75k\", \">$75k\"],\n",
    "}"
   ]
  },
  {
   "cell_type": "code",
   "execution_count": 2,
   "id": "3",
   "metadata": {},
   "outputs": [
    {
     "name": "stderr",
     "output_type": "stream",
     "text": [
      "d:\\Projekte\\Predict_Diabetes_From_BRFSS2015\\.venv\\Lib\\site-packages\\tqdm\\auto.py:21: TqdmWarning: IProgress not found. Please update jupyter and ipywidgets. See https://ipywidgets.readthedocs.io/en/stable/user_install.html\n",
      "  from .autonotebook import tqdm as notebook_tqdm\n"
     ]
    }
   ],
   "source": [
    "import os\n",
    "from datetime import datetime\n",
    "import time\n",
    "import pandas as pd\n",
    "import numpy as np\n",
    "\n",
    "import seaborn as sns\n",
    "from sklearn.metrics import f1_score\n",
    "\n",
    "from src.config import (\n",
    "    DATA_SPLIT_DIR,\n",
    "    TRAIN_RAW_FILENAME,\n",
    "    VALIDATION_RAW_FILENAME,\n",
    "    MODELS_DIR,\n",
    "    STUDY_DIR,\n",
    ")\n",
    "\n",
    "os.makedirs(STUDY_DIR, exist_ok=True)\n",
    "\n",
    "# For Bayesian Optimization\n",
    "import optuna\n",
    "from optuna.samplers import TPESampler\n",
    "from sklearn.model_selection import cross_val_score, StratifiedKFold\n",
    "\n",
    "# importing plotly and enable jupyter notebooks for showing optuna visualisations\n",
    "import plotly.io as pio\n",
    "\n",
    "pio.renderers.default = \"iframe\"\n",
    "\n",
    "# for model comparison\n",
    "import matplotlib.pyplot as plt\n",
    "from sklearn.model_selection import learning_curve\n",
    "\n",
    "from sklearn.exceptions import DataConversionWarning\n",
    "import warnings\n",
    "\n",
    "warnings.filterwarnings(action=\"ignore\", category=DataConversionWarning)"
   ]
  },
  {
   "cell_type": "markdown",
   "id": "6",
   "metadata": {},
   "source": [
    "## Bayesian Optimization"
   ]
  },
  {
   "cell_type": "markdown",
   "id": "7",
   "metadata": {},
   "source": [
    "### Pipeline"
   ]
  },
  {
   "cell_type": "code",
   "execution_count": 3,
   "id": "8",
   "metadata": {
    "tags": []
   },
   "outputs": [],
   "source": [
    "from sklearn.ensemble import RandomForestClassifier\n",
    "from imblearn.pipeline import Pipeline\n",
    "from imblearn.over_sampling import SMOTE\n",
    "from sklearn.preprocessing import StandardScaler, OneHotEncoder, OrdinalEncoder\n",
    "from sklearn.impute import SimpleImputer\n",
    "from sklearn.compose import ColumnTransformer\n",
    "\n",
    "# there are only binary values for the nominal columns\n",
    "nominal_cols = [\n",
    "    \"HighBP\",\n",
    "    \"HighChol\",\n",
    "    \"CholCheck\",\n",
    "    \"Smoker\",\n",
    "    \"Stroke\",\n",
    "    \"HeartDiseaseorAttack\",\n",
    "    \"PhysActivity\",\n",
    "    \"Fruits\",\n",
    "    \"Veggies\",\n",
    "    \"HvyAlcoholConsump\",\n",
    "    \"AnyHealthcare\",\n",
    "    \"NoDocbcCost\",\n",
    "    \"DiffWalk\",\n",
    "    \"Sex\",\n",
    "]\n",
    "nominal_pipe = Pipeline(\n",
    "    [\n",
    "        (\"impute\", SimpleImputer(strategy=\"most_frequent\")),\n",
    "        (\"ohe\", OneHotEncoder(handle_unknown=\"ignore\", drop=\"first\")),\n",
    "    ]\n",
    ")\n",
    "\n",
    "ordinal_cols = [\"GenHlth\", \"Age\", \"Education\", \"Income\"]\n",
    "\n",
    "ordinal_categories = [ordinal_orders[col] for col in ordinal_cols]\n",
    "\n",
    "ordinal_pipe = Pipeline(\n",
    "    [\n",
    "        (\"impute\", SimpleImputer(strategy=\"most_frequent\")),\n",
    "        (\"encode\", OrdinalEncoder(categories=ordinal_categories)),\n",
    "    ]\n",
    ")\n",
    "\n",
    "\n",
    "numeric_cols = [\"BMI\", \"MentHlth\", \"PhysHlth\"]\n",
    "num_pipe = Pipeline(\n",
    "    [(\"impute\", SimpleImputer(strategy=\"median\")), (\"scale\", StandardScaler())]\n",
    ")\n",
    "\n",
    "preprocessor = ColumnTransformer(\n",
    "    transformers=[\n",
    "        (\"num\", num_pipe, numeric_cols),\n",
    "        (\"ord\", ordinal_pipe, ordinal_cols),\n",
    "        (\"nom\", nominal_pipe, nominal_cols),\n",
    "    ],\n",
    "    remainder=\"drop\",\n",
    ")\n",
    "\n",
    "pipeline = Pipeline(\n",
    "    [\n",
    "        (\"preprocessor\", preprocessor),\n",
    "        (\"smote\", SMOTE(random_state=5)),\n",
    "    ]\n",
    ")"
   ]
  },
  {
   "cell_type": "markdown",
   "id": "2d875f67",
   "metadata": {},
   "source": [
    "## Load and transform train and validation data"
   ]
  },
  {
   "cell_type": "code",
   "execution_count": 4,
   "id": "ec4b0a8b",
   "metadata": {},
   "outputs": [],
   "source": [
    "from sklearn.preprocessing import LabelEncoder\n",
    "\n",
    "\n",
    "df_train_raw = pd.read_csv(os.path.join(DATA_SPLIT_DIR, TRAIN_RAW_FILENAME)).iloc[\n",
    "    :200, :\n",
    "]\n",
    "features_train_raw = df_train_raw.drop(\"Diabetes_012\", axis=1)\n",
    "target_train_raw = df_train_raw[\"Diabetes_012\"]\n",
    "\n",
    "\n",
    "df_val_raw = pd.read_csv(os.path.join(DATA_SPLIT_DIR, VALIDATION_RAW_FILENAME))\n",
    "features_val_raw = df_val_raw.drop(\"Diabetes_012\", axis=1)\n",
    "target_val_raw = df_val_raw[\"Diabetes_012\"]\n",
    "\n",
    "# preprocessed_features_train, sampled_target_train\n",
    "features_train_sampled, target_train_sampled = pipeline.fit_resample(\n",
    "    features_train_raw, target_train_raw\n",
    ")\n",
    "\n",
    "\n",
    "labelencoder = LabelEncoder()\n",
    "\n",
    "target_train_enc = labelencoder.fit_transform(target_train_raw)\n",
    "target_train_sampled_enc = labelencoder.transform(target_train_sampled)\n",
    "target_val_enc = labelencoder.transform(target_val_raw)"
   ]
  },
  {
   "cell_type": "markdown",
   "id": "10",
   "metadata": {},
   "source": [
    "### Define Study"
   ]
  },
  {
   "cell_type": "code",
   "execution_count": 5,
   "id": "11",
   "metadata": {},
   "outputs": [],
   "source": [
    "model_purpose = \"nodia-vs-dia\"\n",
    "study_purpose = f\"rf,{model_purpose}\""
   ]
  },
  {
   "cell_type": "code",
   "execution_count": 6,
   "id": "12",
   "metadata": {
    "tags": []
   },
   "outputs": [
    {
     "name": "stdout",
     "output_type": "stream",
     "text": [
      "CPU times: total: 0 ns\n",
      "Wall time: 0 ns\n"
     ]
    }
   ],
   "source": [
    "%%time\n",
    "# Bayesian Optimization\n",
    "def objective(trial):\n",
    "    \"\"\"return maximized f1-score\"\"\"\n",
    "\n",
    "    # search space\n",
    "\n",
    "    params = {\n",
    "        \"n_estimators\": trial.suggest_int(\"n_estimators\", 10, 30, step=20),\n",
    "        # \"max_features\": trial.suggest_categorical(\n",
    "        #     \"max_features\", choices=['sqrt', 'log2']\n",
    "        # ),\n",
    "        # \"max_depth\": trial.suggest_int(\"max_depth\", 5, 60, step=5),\n",
    "        # \"min_samples_split\": trial.suggest_int(\n",
    "        #     name=\"min_samples_split\", low=2, high=102, step=5\n",
    "        # ),\n",
    "        # \"min_samples_leaf\": trial.suggest_int(\n",
    "        #     name=\"min_samples_leaf\", low=1, high=101, step=5\n",
    "        # ),\n",
    "    }\n",
    "\n",
    "    # random forest classifier object\n",
    "    model_rf = RandomForestClassifier(\n",
    "        class_weight=\"balanced\",\n",
    "        random_state=42,\n",
    "        **params,\n",
    "    )\n",
    "\n",
    "    # initiating cv\n",
    "    scores = cross_val_score(\n",
    "        estimator=model_rf,\n",
    "        X=features_train_sampled,\n",
    "        y=target_train_sampled_enc,\n",
    "        scoring=\"f1_macro\",\n",
    "        cv=StratifiedKFold(n_splits=2, shuffle=True, random_state=42),\n",
    "        n_jobs=-1,\n",
    "    )\n",
    "\n",
    "    scores = [score for score in scores if not np.isnan(score)]\n",
    "\n",
    "    return np.mean(scores)"
   ]
  },
  {
   "cell_type": "code",
   "execution_count": 7,
   "id": "13",
   "metadata": {},
   "outputs": [
    {
     "name": "stderr",
     "output_type": "stream",
     "text": [
      "[I 2025-07-08 17:35:05,935] A new study created in RDB with name: 20250708173503_rf,nodia-vs-dia\n"
     ]
    }
   ],
   "source": [
    "timestamp = datetime.now()\n",
    "study_timestamp_str = timestamp.strftime(\"%Y%m%d%H%M%S\")\n",
    "\n",
    "study_name = f\"{study_timestamp_str}_{study_purpose}\"\n",
    "\n",
    "\n",
    "\n",
    "# create a study (aim to maximize score) und setting a seed (random_state) for reproduceability\n",
    "study = optuna.create_study(\n",
    "    sampler=TPESampler(seed=42),\n",
    "    direction=\"maximize\",\n",
    "    study_name=study_name,\n",
    "    storage=f\"sqlite:///{os.path.join(STUDY_DIR, study_name)}.db\",\n",
    ")\n",
    "\n",
    "# perform hyperparamter tuning (while timing the process)\n",
    "time_start = time.time()"
   ]
  },
  {
   "cell_type": "markdown",
   "id": "14",
   "metadata": {},
   "source": [
    "### Run"
   ]
  },
  {
   "cell_type": "code",
   "execution_count": 8,
   "id": "15",
   "metadata": {},
   "outputs": [
    {
     "name": "stderr",
     "output_type": "stream",
     "text": [
      "[I 2025-07-08 17:35:08,118] Trial 0 finished with value: 0.923549790583613 and parameters: {'n_estimators': 10}. Best is trial 0 with value: 0.923549790583613.\n",
      "[I 2025-07-08 17:35:09,708] Trial 1 finished with value: 0.9356576161921231 and parameters: {'n_estimators': 30}. Best is trial 1 with value: 0.9356576161921231.\n",
      "[I 2025-07-08 17:35:11,189] Trial 2 finished with value: 0.923549790583613 and parameters: {'n_estimators': 10}. Best is trial 1 with value: 0.9356576161921231.\n",
      "[I 2025-07-08 17:35:12,964] Trial 3 finished with value: 0.9356576161921231 and parameters: {'n_estimators': 30}. Best is trial 1 with value: 0.9356576161921231.\n",
      "[I 2025-07-08 17:35:13,241] Trial 4 finished with value: 0.923549790583613 and parameters: {'n_estimators': 10}. Best is trial 1 with value: 0.9356576161921231.\n",
      "[I 2025-07-08 17:35:13,574] Trial 5 finished with value: 0.923549790583613 and parameters: {'n_estimators': 10}. Best is trial 1 with value: 0.9356576161921231.\n",
      "[I 2025-07-08 17:35:13,886] Trial 6 finished with value: 0.923549790583613 and parameters: {'n_estimators': 10}. Best is trial 1 with value: 0.9356576161921231.\n",
      "[I 2025-07-08 17:35:14,287] Trial 7 finished with value: 0.9356576161921231 and parameters: {'n_estimators': 30}. Best is trial 1 with value: 0.9356576161921231.\n",
      "[I 2025-07-08 17:35:14,551] Trial 8 finished with value: 0.923549790583613 and parameters: {'n_estimators': 10}. Best is trial 1 with value: 0.9356576161921231.\n",
      "[I 2025-07-08 17:35:14,831] Trial 9 finished with value: 0.9356576161921231 and parameters: {'n_estimators': 30}. Best is trial 1 with value: 0.9356576161921231.\n",
      "[I 2025-07-08 17:35:15,174] Trial 10 finished with value: 0.9356576161921231 and parameters: {'n_estimators': 30}. Best is trial 1 with value: 0.9356576161921231.\n",
      "[I 2025-07-08 17:35:15,531] Trial 11 finished with value: 0.9356576161921231 and parameters: {'n_estimators': 30}. Best is trial 1 with value: 0.9356576161921231.\n",
      "[I 2025-07-08 17:35:15,842] Trial 12 finished with value: 0.9356576161921231 and parameters: {'n_estimators': 30}. Best is trial 1 with value: 0.9356576161921231.\n",
      "[I 2025-07-08 17:35:16,200] Trial 13 finished with value: 0.9356576161921231 and parameters: {'n_estimators': 30}. Best is trial 1 with value: 0.9356576161921231.\n",
      "[I 2025-07-08 17:35:16,495] Trial 14 finished with value: 0.9356576161921231 and parameters: {'n_estimators': 30}. Best is trial 1 with value: 0.9356576161921231.\n",
      "[I 2025-07-08 17:35:16,830] Trial 15 finished with value: 0.9356576161921231 and parameters: {'n_estimators': 30}. Best is trial 1 with value: 0.9356576161921231.\n",
      "[I 2025-07-08 17:35:17,208] Trial 16 finished with value: 0.9356576161921231 and parameters: {'n_estimators': 30}. Best is trial 1 with value: 0.9356576161921231.\n",
      "[I 2025-07-08 17:35:17,562] Trial 17 finished with value: 0.9356576161921231 and parameters: {'n_estimators': 30}. Best is trial 1 with value: 0.9356576161921231.\n",
      "[I 2025-07-08 17:35:17,889] Trial 18 finished with value: 0.9356576161921231 and parameters: {'n_estimators': 30}. Best is trial 1 with value: 0.9356576161921231.\n",
      "[I 2025-07-08 17:35:18,195] Trial 19 finished with value: 0.9356576161921231 and parameters: {'n_estimators': 30}. Best is trial 1 with value: 0.9356576161921231.\n"
     ]
    },
    {
     "name": "stdout",
     "output_type": "stream",
     "text": [
      "CPU times: total: 844 ms\n",
      "Wall time: 12.2 s\n"
     ]
    }
   ],
   "source": [
    "%%time\n",
    "\n",
    "study = optuna.load_study(\n",
    "    study_name=study_name,\n",
    "    storage=f\"sqlite:///{os.path.join(STUDY_DIR, study_name)}.db\"\n",
    ")\n",
    "study.optimize(objective, n_trials=20)"
   ]
  },
  {
   "cell_type": "markdown",
   "id": "16",
   "metadata": {},
   "source": [
    "#### Best parameters"
   ]
  },
  {
   "cell_type": "code",
   "execution_count": 9,
   "id": "17",
   "metadata": {},
   "outputs": [
    {
     "data": {
      "text/plain": [
       "{'n_estimators': 30}"
      ]
     },
     "execution_count": 9,
     "metadata": {},
     "output_type": "execute_result"
    }
   ],
   "source": [
    "study.best_params"
   ]
  },
  {
   "cell_type": "markdown",
   "id": "18",
   "metadata": {},
   "source": [
    "### Retrain"
   ]
  },
  {
   "cell_type": "code",
   "execution_count": 10,
   "id": "19",
   "metadata": {},
   "outputs": [
    {
     "name": "stdout",
     "output_type": "stream",
     "text": [
      "CPU times: total: 109 ms\n",
      "Wall time: 80.8 ms\n"
     ]
    }
   ],
   "source": [
    "%%time\n",
    "best_params = study.best_params\n",
    "\n",
    "classifier = RandomForestClassifier(class_weight=\"balanced\", random_state=42, **best_params)\n",
    "\n",
    "classifier.fit(features_train_sampled, target_train_sampled_enc)\n",
    "\n",
    "model_timestamp = datetime.now()"
   ]
  },
  {
   "cell_type": "code",
   "execution_count": 11,
   "id": "20",
   "metadata": {},
   "outputs": [
    {
     "data": {
      "text/plain": [
       "datetime.datetime"
      ]
     },
     "execution_count": 11,
     "metadata": {},
     "output_type": "execute_result"
    }
   ],
   "source": [
    "type(datetime.now())"
   ]
  },
  {
   "cell_type": "markdown",
   "id": "21",
   "metadata": {},
   "source": [
    "## Prediction"
   ]
  },
  {
   "cell_type": "code",
   "execution_count": 12,
   "id": "22",
   "metadata": {},
   "outputs": [],
   "source": [
    "target_val_pred = classifier.predict(preprocessor.transform(features_val_raw))"
   ]
  },
  {
   "cell_type": "markdown",
   "id": "23",
   "metadata": {},
   "source": [
    "## Evaluation"
   ]
  },
  {
   "cell_type": "markdown",
   "id": "24",
   "metadata": {},
   "source": [
    "### Metrics"
   ]
  },
  {
   "cell_type": "code",
   "execution_count": 13,
   "id": "25",
   "metadata": {},
   "outputs": [],
   "source": [
    "special_features = \"smote\""
   ]
  },
  {
   "cell_type": "code",
   "execution_count": 14,
   "id": "26",
   "metadata": {},
   "outputs": [
    {
     "name": "stdout",
     "output_type": "stream",
     "text": [
      "precision: 0.7947800824986121\n",
      "F1: 0.8040319153743453\n",
      "bal acc: 0.39352836394130936\n",
      "roc auc: 0.6504754847568209\n",
      "\n",
      "confusion_matrix\n"
     ]
    },
    {
     "data": {
      "text/html": [
       "<div>\n",
       "<style scoped>\n",
       "    .dataframe tbody tr th:only-of-type {\n",
       "        vertical-align: middle;\n",
       "    }\n",
       "\n",
       "    .dataframe tbody tr th {\n",
       "        vertical-align: top;\n",
       "    }\n",
       "\n",
       "    .dataframe thead th {\n",
       "        text-align: right;\n",
       "    }\n",
       "</style>\n",
       "<table border=\"1\" class=\"dataframe\">\n",
       "  <thead>\n",
       "    <tr style=\"text-align: right;\">\n",
       "      <th></th>\n",
       "      <th>dia</th>\n",
       "      <th>no dia</th>\n",
       "      <th>pre</th>\n",
       "    </tr>\n",
       "  </thead>\n",
       "  <tbody>\n",
       "    <tr>\n",
       "      <th>dia</th>\n",
       "      <td>29</td>\n",
       "      <td>631</td>\n",
       "      <td>126</td>\n",
       "    </tr>\n",
       "    <tr>\n",
       "      <th>no dia</th>\n",
       "      <td>622</td>\n",
       "      <td>34957</td>\n",
       "      <td>2205</td>\n",
       "    </tr>\n",
       "    <tr>\n",
       "      <th>pre</th>\n",
       "      <td>245</td>\n",
       "      <td>4222</td>\n",
       "      <td>1249</td>\n",
       "    </tr>\n",
       "  </tbody>\n",
       "</table>\n",
       "</div>"
      ],
      "text/plain": [
       "        dia  no dia   pre\n",
       "dia      29     631   126\n",
       "no dia  622   34957  2205\n",
       "pre     245    4222  1249"
      ]
     },
     "metadata": {},
     "output_type": "display_data"
    },
    {
     "name": "stdout",
     "output_type": "stream",
     "text": [
      "\n",
      "classification_report\n"
     ]
    },
    {
     "data": {
      "text/html": [
       "<div>\n",
       "<style scoped>\n",
       "    .dataframe tbody tr th:only-of-type {\n",
       "        vertical-align: middle;\n",
       "    }\n",
       "\n",
       "    .dataframe tbody tr th {\n",
       "        vertical-align: top;\n",
       "    }\n",
       "\n",
       "    .dataframe thead th {\n",
       "        text-align: right;\n",
       "    }\n",
       "</style>\n",
       "<table border=\"1\" class=\"dataframe\">\n",
       "  <thead>\n",
       "    <tr style=\"text-align: right;\">\n",
       "      <th></th>\n",
       "      <th>precision</th>\n",
       "      <th>recall</th>\n",
       "      <th>f1-score</th>\n",
       "      <th>support</th>\n",
       "    </tr>\n",
       "  </thead>\n",
       "  <tbody>\n",
       "    <tr>\n",
       "      <th>dia</th>\n",
       "      <td>0.032</td>\n",
       "      <td>0.037</td>\n",
       "      <td>0.034</td>\n",
       "      <td>786</td>\n",
       "    </tr>\n",
       "    <tr>\n",
       "      <th>no dia</th>\n",
       "      <td>0.878</td>\n",
       "      <td>0.925</td>\n",
       "      <td>0.901</td>\n",
       "      <td>37784</td>\n",
       "    </tr>\n",
       "    <tr>\n",
       "      <th>pre</th>\n",
       "      <td>0.349</td>\n",
       "      <td>0.219</td>\n",
       "      <td>0.269</td>\n",
       "      <td>5716</td>\n",
       "    </tr>\n",
       "    <tr>\n",
       "      <th>accuracy</th>\n",
       "      <td></td>\n",
       "      <td></td>\n",
       "      <td>0.818</td>\n",
       "      <td>44286</td>\n",
       "    </tr>\n",
       "    <tr>\n",
       "      <th>macro avg</th>\n",
       "      <td>0.42</td>\n",
       "      <td>0.394</td>\n",
       "      <td>0.401</td>\n",
       "      <td>44286</td>\n",
       "    </tr>\n",
       "    <tr>\n",
       "      <th>weighted avg</th>\n",
       "      <td>0.795</td>\n",
       "      <td>0.818</td>\n",
       "      <td>0.804</td>\n",
       "      <td>44286</td>\n",
       "    </tr>\n",
       "  </tbody>\n",
       "</table>\n",
       "</div>"
      ],
      "text/plain": [
       "             precision recall f1-score support\n",
       "dia              0.032  0.037    0.034     786\n",
       "no dia           0.878  0.925    0.901   37784\n",
       "pre              0.349  0.219    0.269    5716\n",
       "accuracy                         0.818   44286\n",
       "macro avg         0.42  0.394    0.401   44286\n",
       "weighted avg     0.795  0.818    0.804   44286"
      ]
     },
     "metadata": {},
     "output_type": "display_data"
    }
   ],
   "source": [
    "from src.model_evaluation import (\n",
    "    evaluate_classifier,\n",
    "    get_classification_report_from_results_as_df,\n",
    "    get_confusion_matrix_from_results_as_df,\n",
    ")\n",
    "\n",
    "target_val_pred_proba = None\n",
    "\n",
    "if hasattr(classifier, \"predict_proba\"):\n",
    "    target_val_pred_proba = classifier.predict_proba(preprocessor.transform(features_val_raw))\n",
    "\n",
    "    if target_train_raw.nunique() <= 2:\n",
    "        target_val_pred_proba = target_val_pred_proba[:, 1]\n",
    "\n",
    "\n",
    "results = evaluate_classifier(\n",
    "    classifier=classifier,\n",
    "    labels=list(labelencoder.classes_),\n",
    "    target_truth=target_val_raw,\n",
    "    target_pred=labelencoder.inverse_transform(target_val_pred),\n",
    "    target_pred_proba=target_val_pred_proba,\n",
    "    timestamp=timestamp,\n",
    "    model_purpose=model_purpose,\n",
    "    special_features=special_features,\n",
    ")\n",
    "\n",
    "print(\"precision:\", results[\"precision\"])\n",
    "print(\"F1:\", results[\"f1\"])\n",
    "print(\"bal acc:\", results[\"bal_accuracy\"])\n",
    "print(\"roc auc:\", results[\"roc_auc_score\"])\n",
    "\n",
    "print()\n",
    "print(\"confusion_matrix\")\n",
    "display(get_confusion_matrix_from_results_as_df(results))\n",
    "\n",
    "print()\n",
    "print(\"classification_report\")\n",
    "display(get_classification_report_from_results_as_df(results))\n",
    "\n",
    "\n",
    "labels = results[\"predicts\"]\n",
    "model_name = results[\"model_name\"]"
   ]
  },
  {
   "cell_type": "markdown",
   "id": "27",
   "metadata": {},
   "source": [
    "### Save the model and results"
   ]
  },
  {
   "cell_type": "code",
   "execution_count": 15,
   "id": "28",
   "metadata": {
    "tags": []
   },
   "outputs": [],
   "source": [
    "import pickle\n",
    "import json\n",
    "import os\n",
    "\n",
    "folder = os.path.join(MODELS_DIR, model_name)\n",
    "filename = os.path.join(folder, model_name)\n",
    "os.makedirs(folder, exist_ok=True)\n",
    "\n",
    "with open(f\"{filename}.model.pkl\", \"wb\") as f:\n",
    "    pickle.dump(classifier, f)\n",
    "\n",
    "with open(f\"{filename}.pipeline.pkl\", \"wb\") as f:\n",
    "    pickle.dump(preprocessor, f)\n",
    "\n",
    "with open(f\"{filename}.label_encoder.pkl\", \"wb\") as f:\n",
    "    pickle.dump(labelencoder, f)\n",
    "\n",
    "with open(f\"{filename}.model.txt\", \"w\") as file:\n",
    "    file.write(str(classifier))\n",
    "\n",
    "with open(f\"{filename}.results.json\", \"w\") as f:\n",
    "    json.dump(results, f, indent=2)\n",
    "\n",
    "with open(f\"{filename}.pipeline_params.txt\", \"w\") as f:\n",
    "    f.write(preprocessor.get_params().__str__())\n",
    "\n",
    "with open(f\"{filename}.model_params.json\", \"w\") as f:\n",
    "    json.dump(classifier.get_params(), f, indent=2)"
   ]
  },
  {
   "cell_type": "markdown",
   "id": "29",
   "metadata": {},
   "source": [
    "### Learning curves"
   ]
  },
  {
   "cell_type": "code",
   "execution_count": 17,
   "id": "30",
   "metadata": {
    "jupyter": {
     "source_hidden": true
    },
    "tags": []
   },
   "outputs": [
    {
     "name": "stdout",
     "output_type": "stream",
     "text": [
      "CPU times: total: 93.8 ms\n",
      "Wall time: 849 ms\n"
     ]
    }
   ],
   "source": [
    "%%time\n",
    "\n",
    "scoring_mode = \"f1_macro\"\n",
    "train_sizes, train_scores, val_scores = learning_curve(\n",
    "    estimator=classifier,\n",
    "    X=features_train_sampled,\n",
    "    y=target_train_sampled_enc,\n",
    "    cv=5,\n",
    "    scoring=scoring_mode,\n",
    "    n_jobs=-1,\n",
    "    train_sizes=np.linspace(0.1, 1.0, 10),\n",
    ")\n",
    "\n",
    "train_mean = train_scores.mean(axis=1)\n",
    "val_mean = val_scores.mean(axis=1)\n",
    "\n",
    "df_lc = pd.DataFrame({\"train_sizes\": train_sizes, \"train_scores\": train_mean, \"val_scores\": val_mean})\n",
    "df_lc.to_csv(f\"{filename}.learning_curves.csv\", index=False)"
   ]
  },
  {
   "cell_type": "code",
   "execution_count": 18,
   "id": "31",
   "metadata": {
    "tags": []
   },
   "outputs": [
    {
     "data": {
      "image/png": "[encoded data removed]",
      "text/plain": [
       "<Figure size 1600x500 with 1 Axes>"
      ]
     },
     "metadata": {},
     "output_type": "display_data"
    }
   ],
   "source": [
    "import matplotlib.pyplot as plt\n",
    "import numpy as np\n",
    "import io\n",
    "from scipy.ndimage import uniform_filter1d\n",
    "\n",
    "\n",
    "fig, ax = plt.subplots(figsize=(16, 5))\n",
    "\n",
    "# Hauptlinien\n",
    "train_line, = ax.plot(train_sizes, train_mean, label=\"Training score\")\n",
    "val_line, = ax.plot(train_sizes, val_mean, label=\"Validation score\")\n",
    "\n",
    "# Farben extrahieren\n",
    "train_color = train_line.get_color()\n",
    "val_color = val_line.get_color()\n",
    "\n",
    "# Min-/Max-Werte\n",
    "y_lines_min = [train_mean.min(), val_mean.min()]\n",
    "y_lines_max = [train_mean.max(), val_mean.max()]\n",
    "\n",
    "# Hilfslinien\n",
    "for y in y_lines_min:\n",
    "    ax.axhline(y, color=\"red\", linestyle=\"--\", linewidth=0.8, alpha=0.2)\n",
    "for y in y_lines_max:\n",
    "    ax.axhline(y, color=\"green\", linestyle=\"--\", linewidth=0.8, alpha=0.2)\n",
    "\n",
    "# Rollender Durchschnitt (Fenstergröße = 3)\n",
    "train_rolling = uniform_filter1d(train_mean, size=3, mode=\"nearest\")\n",
    "val_rolling = uniform_filter1d(val_mean, size=3, mode=\"nearest\")\n",
    "\n",
    "ax.plot(train_sizes, train_rolling, label=\"Train rolling avg\", linestyle=\":\", linewidth=1.5, color=train_color, alpha=0.5)\n",
    "ax.plot(train_sizes, val_rolling, label=\"Val rolling avg\", linestyle=\":\", linewidth=1.5, color=val_color, alpha=0.5)\n",
    "\n",
    "# y-Ticks\n",
    "yticks = sorted(set(ax.get_yticks().tolist() + y_lines_min + y_lines_max))\n",
    "ax.set_yticks(yticks)\n",
    "\n",
    "ax.set_xlabel(\"Training set size\")\n",
    "ax.set_ylabel(\"F1 Macro Score\")\n",
    "\n",
    "ax.set_title(f\"Learning curve for model '{model_name}'\")\n",
    "\n",
    "ax.legend()\n",
    "fig.tight_layout()\n",
    "fig.savefig(f\"{filename}.learning_curve_img.png\", format=\"png\")\n",
    "plt.show()"
   ]
  },
  {
   "cell_type": "markdown",
   "id": "32",
   "metadata": {},
   "source": [
    "### Feature importances"
   ]
  },
  {
   "cell_type": "code",
   "execution_count": 19,
   "id": "33",
   "metadata": {
    "jupyter": {
     "source_hidden": true
    },
    "tags": []
   },
   "outputs": [],
   "source": [
    "import seaborn as sns\n",
    "from sklearn.metrics import f1_score\n",
    "\n",
    "target_train_pred = classifier.predict(preprocessor.transform(features_train_raw))\n",
    "\n",
    "f1_base = f1_score(target_train_enc, target_train_pred, average='weighted')\n",
    "\n",
    "# The sequence of sampling, transforming and permutating is a tricky one:\n",
    "# * If transforming is performed before permutating, a column belonging to a one-hot-encoded feature\n",
    "#   might permutate in a way that a row now contains two 1, but it must not have more than one\n",
    "#   by definition. So permutation preceeds transformation.\n",
    "# * Sampling after transforming has the same issue, but most sampling cannot deal with NaN, so it has\n",
    "#   to preceed transforming.\n",
    "# * If sampling follows permutation it might result in different rows, because the permutated feature\n",
    "#   might be relevant for the creation of new rows. This would change the distribution of values for\n",
    "#   each feature.\n",
    "# So the chosen sequence is no sampling, permutating, transforming\n",
    "\n",
    "importances_of_permutations = []\n",
    "for feat in features_train_raw.columns:\n",
    "    features_permutated = features_train_raw.copy()\n",
    "\n",
    "    permutation_run_scores = []\n",
    "    for i in range(5):\n",
    "        series_perm = features_permutated[feat].sample(frac=1, replace=False, random_state=0)\n",
    "        series_perm.reset_index(drop=True, inplace=True)\n",
    "        features_permutated[feat] = series_perm\n",
    "        \n",
    "        preprocessed_features_permutated = preprocessor.transform(features_permutated)\n",
    "        f1_permutated = f1_score(target_train_enc, classifier.predict(preprocessed_features_permutated), average='weighted')\n",
    "        permutation_run_scores.append(f1_base - f1_permutated)\n",
    "\n",
    "    importances_of_permutations.append(np.mean(permutation_run_scores))\n",
    "\n",
    "feature_importances = pd.Series(data=importances_of_permutations, index=features_train_raw.columns)\n",
    "feature_importances.sort_values(ascending=False, inplace=True)\n",
    "\n",
    "with open(f\"{filename}.feature_importances.json\", \"w\") as f:\n",
    "    json.dump(feature_importances.to_dict(), f, indent=2)"
   ]
  },
  {
   "cell_type": "code",
   "execution_count": 20,
   "id": "34",
   "metadata": {},
   "outputs": [
    {
     "data": {
      "image/png": "[encoded data removed]",
      "text/plain": [
       "<Figure size 1600x630 with 1 Axes>"
      ]
     },
     "metadata": {},
     "output_type": "display_data"
    }
   ],
   "source": [
    "fig, ax = plt.subplots(figsize=(16, 0.3*len(features_val_raw.columns)))\n",
    "sns.barplot(x=feature_importances.values, y=feature_importances.index,ax=ax)\n",
    "ax.set_title(f\"feature importances for model '{model_name}'\")\n",
    "for i, (val, label) in enumerate(zip(feature_importances.values, feature_importances.index)):\n",
    "    ax.text(val, i, f\" {val:.4f}\", va=\"center\", ha=\"left\", fontsize=8)\n",
    "    \n",
    "fig.tight_layout()\n",
    "fig.savefig(f\"{filename}.feature_importances.png\", format=\"png\")\n",
    "plt.show()"
   ]
  },
  {
   "cell_type": "markdown",
   "id": "35",
   "metadata": {},
   "source": [
    "## Optuna Visualizations"
   ]
  },
  {
   "cell_type": "markdown",
   "id": "36",
   "metadata": {},
   "source": [
    "### History"
   ]
  },
  {
   "cell_type": "code",
   "execution_count": 21,
   "id": "37",
   "metadata": {},
   "outputs": [
    {
     "data": {
      "text/html": [
       "<iframe\n",
       "    scrolling=\"no\"\n",
       "    width=\"100%\"\n",
       "    height=\"545px\"\n",
       "    src=\"iframe_figures/figure_21.html\"\n",
       "    frameborder=\"0\"\n",
       "    allowfullscreen\n",
       "></iframe>\n"
      ]
     },
     "metadata": {},
     "output_type": "display_data"
    }
   ],
   "source": [
    "fig = optuna.visualization.plot_optimization_history(study)\n",
    "fig.show()"
   ]
  },
  {
   "cell_type": "markdown",
   "id": "38",
   "metadata": {},
   "source": [
    "### Parallel coordinates"
   ]
  },
  {
   "cell_type": "code",
   "execution_count": 22,
   "id": "39",
   "metadata": {},
   "outputs": [
    {
     "data": {
      "text/html": [
       "<iframe\n",
       "    scrolling=\"no\"\n",
       "    width=\"100%\"\n",
       "    height=\"545px\"\n",
       "    src=\"iframe_figures/figure_22.html\"\n",
       "    frameborder=\"0\"\n",
       "    allowfullscreen\n",
       "></iframe>\n"
      ]
     },
     "metadata": {},
     "output_type": "display_data"
    }
   ],
   "source": [
    "optuna.visualization.plot_parallel_coordinate(study)"
   ]
  },
  {
   "cell_type": "markdown",
   "id": "40",
   "metadata": {},
   "source": [
    "### Parameter importances"
   ]
  },
  {
   "cell_type": "code",
   "execution_count": 23,
   "id": "41",
   "metadata": {},
   "outputs": [
    {
     "data": {
      "text/html": [
       "<iframe\n",
       "    scrolling=\"no\"\n",
       "    width=\"100%\"\n",
       "    height=\"545px\"\n",
       "    src=\"iframe_figures/figure_23.html\"\n",
       "    frameborder=\"0\"\n",
       "    allowfullscreen\n",
       "></iframe>\n"
      ]
     },
     "metadata": {},
     "output_type": "display_data"
    }
   ],
   "source": [
    "optuna.visualization.plot_param_importances(study)"
   ]
  }
 ],
 "metadata": {
  "kernelspec": {
   "display_name": "predict-diabetes-from-brfss2015",
   "language": "python",
   "name": "python3"
  },
  "language_info": {
   "codemirror_mode": {
    "name": "ipython",
    "version": 3
   },
   "file_extension": ".py",
   "mimetype": "text/x-python",
   "name": "python",
   "nbconvert_exporter": "python",
   "pygments_lexer": "ipython3",
   "version": "3.12.11"
  }
 },
 "nbformat": 4,
 "nbformat_minor": 5
}
