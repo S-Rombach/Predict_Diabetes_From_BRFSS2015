{
 "cells": [
  {
   "cell_type": "markdown",
   "id": "0",
   "metadata": {},
   "source": [
    "# Creation of a DNN baseline model"
   ]
  },
  {
   "cell_type": "markdown",
   "id": "1",
   "metadata": {},
   "source": [
    "### Runtimes\n",
    "\n",
    "| Cell | Runtime |\n",
    "| --- | --- |\n",
    "| Training | ~ ? min |\n",
    "| Learning Curves | ~ ? min |\n",
    "| Feature Importances | ~ ? min |\n",
    "| Everything else | ? min |"
   ]
  },
  {
   "cell_type": "markdown",
   "id": "2",
   "metadata": {},
   "source": [
    "### Init config"
   ]
  },
  {
   "cell_type": "code",
   "execution_count": null,
   "id": "3",
   "metadata": {},
   "outputs": [],
   "source": [
    "import os\n",
    "import numpy as np\n",
    "import pandas as pd\n",
    "import seaborn as sns\n",
    "from sklearn.metrics import f1_score\n",
    "from sklearn.model_selection import learning_curve\n",
    "import matplotlib.pyplot as plt\n",
    "\n",
    "from src.config import (\n",
    "    DATA_SPLIT_DIR,\n",
    "    TRAIN_RAW_FILENAME,\n",
    "    VALIDATION_RAW_FILENAME,\n",
    "    MODELS_DIR,\n",
    ")"
   ]
  },
  {
   "cell_type": "code",
   "execution_count": null,
   "id": "4",
   "metadata": {},
   "outputs": [],
   "source": [
    "ordinal_orders = {\n",
    "    \"GenHlth\": [\"excellent\", \"very good\", \"good\", \"fair\", \"poor\"],\n",
    "    \"Age\": [\n",
    "        \"18-24\",\n",
    "        \"25-29\",\n",
    "        \"30-34\",\n",
    "        \"35-39\",\n",
    "        \"40-44\",\n",
    "        \"45-49\",\n",
    "        \"50-54\",\n",
    "        \"55-59\",\n",
    "        \"60-64\",\n",
    "        \"65-69\",\n",
    "        \"70-74\",\n",
    "        \"75-79\",\n",
    "        \"80+\",\n",
    "    ],\n",
    "    \"Education\": [\n",
    "        \"no school\",\n",
    "        \"elementary\",\n",
    "        \"some high school\",\n",
    "        \"high school graduate\",\n",
    "        \"college\",\n",
    "        \"college graduate\",\n",
    "    ],\n",
    "    \"Income\": [\"<$10k\", \"<$15k\", \"<$20k\", \"<$25k\", \"<$35k\", \"<$50k\", \"<$75k\", \">$75k\"],\n",
    "}"
   ]
  },
  {
   "cell_type": "markdown",
   "id": "5",
   "metadata": {},
   "source": [
    "## Pipeline"
   ]
  },
  {
   "cell_type": "code",
   "execution_count": null,
   "id": "6",
   "metadata": {},
   "outputs": [],
   "source": [
    "from sklearn.pipeline import Pipeline\n",
    "from sklearn.preprocessing import StandardScaler, OneHotEncoder, OrdinalEncoder\n",
    "from sklearn.impute import SimpleImputer\n",
    "from sklearn.compose import ColumnTransformer\n",
    "\n",
    "nominal_cols = [\n",
    "    \"HighBP\",\n",
    "    \"HighChol\",\n",
    "    \"CholCheck\",\n",
    "    \"Smoker\",\n",
    "    \"Stroke\",\n",
    "    \"HeartDiseaseorAttack\",\n",
    "    \"PhysActivity\",\n",
    "    \"Fruits\",\n",
    "    \"Veggies\",\n",
    "    \"HvyAlcoholConsump\",\n",
    "    \"AnyHealthcare\",\n",
    "    \"NoDocbcCost\",\n",
    "    \"DiffWalk\",\n",
    "    \"Sex\",\n",
    "]\n",
    "nominal_pipe = Pipeline(\n",
    "    [\n",
    "        (\"impute\", SimpleImputer(strategy=\"most_frequent\")),\n",
    "        (\"ohe\", OneHotEncoder(handle_unknown=\"ignore\", drop=\"first\")),\n",
    "    ]\n",
    ")\n",
    "\n",
    "ordinal_cols = [\"GenHlth\", \"Age\", \"Education\", \"Income\"]\n",
    "\n",
    "ordinal_categories = [ordinal_orders[col] for col in ordinal_cols]\n",
    "\n",
    "ordinal_pipe = Pipeline(\n",
    "    [\n",
    "        (\"impute\", SimpleImputer(strategy=\"most_frequent\")),\n",
    "        (\"encode\", OrdinalEncoder(categories=ordinal_categories)),\n",
    "        (\"scale\", StandardScaler()),\n",
    "    ]\n",
    ")\n",
    "\n",
    "\n",
    "numeric_cols = [\"BMI\", \"MentHlth\", \"PhysHlth\"]\n",
    "num_pipe = Pipeline(\n",
    "    [(\"impute\", SimpleImputer(strategy=\"median\")), (\"scale\", StandardScaler())]\n",
    ")\n",
    "\n",
    "preprocessor = ColumnTransformer(\n",
    "    transformers=[\n",
    "        (\"num\", num_pipe, numeric_cols),\n",
    "        (\"ord\", ordinal_pipe, ordinal_cols),\n",
    "        (\"nom\", nominal_pipe, nominal_cols),\n",
    "    ],\n",
    "    remainder=\"drop\",\n",
    ")\n",
    "\n",
    "pipeline = Pipeline(\n",
    "    [\n",
    "        (\"preprocessor\", preprocessor),\n",
    "    ]\n",
    ")"
   ]
  },
  {
   "cell_type": "markdown",
   "id": "7",
   "metadata": {},
   "source": [
    "## Load and transform train and validation data"
   ]
  },
  {
   "cell_type": "code",
   "execution_count": null,
   "id": "8",
   "metadata": {},
   "outputs": [],
   "source": [
    "from sklearn.preprocessing import LabelEncoder\n",
    "\n",
    "labelencoder = LabelEncoder()\n",
    "\n",
    "# train data\n",
    "df_train_raw = pd.read_csv(os.path.join(DATA_SPLIT_DIR, TRAIN_RAW_FILENAME))\n",
    "features_train_raw = df_train_raw.drop(\"Diabetes_012\", axis=1)\n",
    "target_train_raw = df_train_raw[\"Diabetes_012\"]\n",
    "\n",
    "features_train_proc = preprocessor.fit_transform(features_train_raw)\n",
    "target_train_enc = labelencoder.fit_transform(target_train_raw)\n",
    "\n",
    "# validation data\n",
    "df_val_raw = pd.read_csv(os.path.join(DATA_SPLIT_DIR, VALIDATION_RAW_FILENAME))\n",
    "features_val_raw = df_val_raw.drop(\"Diabetes_012\", axis=1)\n",
    "target_val_raw = df_val_raw[\"Diabetes_012\"]\n",
    "\n",
    "features_val_proc = preprocessor.transform(features_val_raw)\n",
    "target_val_enc = labelencoder.transform(target_val_raw)\n",
    "\n",
    "# set labels\n",
    "labels = labelencoder.classes_"
   ]
  },
  {
   "cell_type": "markdown",
   "id": "9",
   "metadata": {},
   "source": [
    "## Model definition"
   ]
  },
  {
   "cell_type": "code",
   "execution_count": null,
   "id": "10",
   "metadata": {},
   "outputs": [],
   "source": [
    "# define and a use model builder method\n",
    "# learning curves will need it again later\n",
    "def build_model():\n",
    "    from tensorflow.keras.models import Sequential\n",
    "    from tensorflow.keras.layers import Dense, Dropout, Input\n",
    "\n",
    "    model = Sequential(\n",
    "        [\n",
    "            Input(shape=(21,)),\n",
    "            Dense(64, activation=\"relu\"),\n",
    "            Dropout(0.3),\n",
    "            Dense(32, activation=\"relu\"),\n",
    "            Dense(3, activation=\"softmax\"),  # 3 Klassen\n",
    "        ]\n",
    "    )\n",
    "    model.compile(\n",
    "        optimizer=\"adam\", loss=\"sparse_categorical_crossentropy\", metrics=[\"accuracy\"]\n",
    "    )\n",
    "    return model"
   ]
  },
  {
   "cell_type": "code",
   "execution_count": null,
   "id": "11",
   "metadata": {},
   "outputs": [],
   "source": [
    "classifier = build_model()"
   ]
  },
  {
   "cell_type": "markdown",
   "id": "12",
   "metadata": {},
   "source": [
    "## Training"
   ]
  },
  {
   "cell_type": "code",
   "execution_count": null,
   "id": "13",
   "metadata": {},
   "outputs": [],
   "source": [
    "%%time\n",
    "from datetime import datetime\n",
    "from tensorflow.keras.utils import to_categorical\n",
    "from tensorflow.keras.callbacks import EarlyStopping\n",
    "\n",
    "classifier.fit(\n",
    "    features_train_proc, target_train_enc,\n",
    "    validation_data=(features_val_proc, target_val_enc),\n",
    "    epochs=100,\n",
    "    batch_size=32,\n",
    "    callbacks=[EarlyStopping(patience=5, restore_best_weights=True)]\n",
    ")\n",
    "\n",
    "\n",
    "timestamp = datetime.now()"
   ]
  },
  {
   "cell_type": "markdown",
   "id": "14",
   "metadata": {},
   "source": [
    "## Prediction"
   ]
  },
  {
   "cell_type": "code",
   "execution_count": null,
   "id": "15",
   "metadata": {},
   "outputs": [],
   "source": [
    "target_val_pred_proba = classifier.predict(features_val_proc)"
   ]
  },
  {
   "cell_type": "code",
   "execution_count": null,
   "id": "16",
   "metadata": {},
   "outputs": [],
   "source": [
    "target_val_pred = np.argmax(target_val_pred_proba, axis=1)"
   ]
  },
  {
   "cell_type": "markdown",
   "id": "17",
   "metadata": {},
   "source": [
    "## Evaluation"
   ]
  },
  {
   "cell_type": "markdown",
   "id": "18",
   "metadata": {},
   "source": [
    "### Metrics"
   ]
  },
  {
   "cell_type": "code",
   "execution_count": null,
   "id": "19",
   "metadata": {},
   "outputs": [],
   "source": [
    "model_purpose = \"baseline\"\n",
    "special_features = \"\""
   ]
  },
  {
   "cell_type": "code",
   "execution_count": null,
   "id": "20",
   "metadata": {},
   "outputs": [],
   "source": [
    "from src.model_evaluation import (\n",
    "    evaluate_classifier,\n",
    "    get_classification_report_from_results_as_df,\n",
    "    get_confusion_matrix_from_results_as_df,\n",
    ")\n",
    "\n",
    "\n",
    "if target_train_raw.nunique() <= 2:\n",
    "    target_val_pred_proba = target_val_pred_proba[:, 1]\n",
    "\n",
    "results = evaluate_classifier(\n",
    "    classifier=classifier,\n",
    "    labels=list(range(len(labels))),\n",
    "    target_truth=target_val_enc,\n",
    "    target_pred=target_val_pred,\n",
    "    target_pred_proba=target_val_pred_proba,\n",
    "    timestamp=timestamp,\n",
    "    model_purpose=model_purpose,\n",
    "    special_features=special_features,\n",
    ")\n",
    "\n",
    "\n",
    "print(\"precision:\", results[\"precision\"])\n",
    "print(\"F1:\", results[\"f1\"])\n",
    "print(\"bal acc:\", results[\"bal_accuracy\"])\n",
    "print(\"roc auc:\", results[\"roc_auc_score\"])\n",
    "\n",
    "print()\n",
    "print(\"confusion_matrix\")\n",
    "display(get_confusion_matrix_from_results_as_df(results))\n",
    "\n",
    "print()\n",
    "print(\"classification_report\")\n",
    "display(get_classification_report_from_results_as_df(results))\n",
    "\n",
    "\n",
    "labels = results[\"predicts\"]\n",
    "model_name = results[\"model_name\"]"
   ]
  },
  {
   "cell_type": "markdown",
   "id": "21",
   "metadata": {},
   "source": [
    "### Save the model and results"
   ]
  },
  {
   "cell_type": "code",
   "execution_count": null,
   "id": "22",
   "metadata": {},
   "outputs": [],
   "source": [
    "import pickle\n",
    "import json\n",
    "import os\n",
    "\n",
    "folder = os.path.join(MODELS_DIR, model_name)\n",
    "filename = os.path.join(folder, model_name)\n",
    "os.makedirs(folder, exist_ok=True)\n",
    "\n",
    "with open(f\"{filename}.model.pkl\", \"wb\") as f:\n",
    "    pickle.dump(classifier, f)\n",
    "\n",
    "with open(f\"{filename}.pipeline.pkl\", \"wb\") as f:\n",
    "    pickle.dump(preprocessor, f)\n",
    "\n",
    "with open(f\"{filename}.model.txt\", \"w\") as file:\n",
    "    file.write(str(classifier))\n",
    "\n",
    "with open(f\"{filename}.results.json\", \"w\") as f:\n",
    "    json.dump(results, f, indent=2)\n",
    "\n",
    "with open(f\"{filename}.pipeline_params.txt\", \"w\") as f:\n",
    "    f.write(preprocessor.get_params().__str__())\n",
    "\n",
    "with open(f\"{filename}.model_params.json\", \"w\") as f:\n",
    "    json.dump(classifier.to_json(), f, indent=2)\n"
   ]
  },
  {
   "cell_type": "markdown",
   "id": "23",
   "metadata": {},
   "source": [
    "### Learning Curve"
   ]
  },
  {
   "cell_type": "code",
   "execution_count": null,
   "id": "24",
   "metadata": {},
   "outputs": [],
   "source": [
    "# %%time\n",
    "# from keras.wrappers.scikit_learn import KerasClassifier\n",
    "from scikeras.wrappers import KerasClassifier\n",
    "\n",
    "classifier_wrapped = KerasClassifier(model=build_model, epochs=30, verbose=0)"
   ]
  },
  {
   "cell_type": "code",
   "execution_count": null,
   "id": "25",
   "metadata": {},
   "outputs": [],
   "source": [
    "scoring_mode = \"f1_macro\"\n",
    "train_sizes, train_scores, val_scores = learning_curve(\n",
    "    estimator=classifier_wrapped,\n",
    "    X=features_train_proc  ,\n",
    "    y=target_train_enc,\n",
    "    cv=2,\n",
    "    scoring=scoring_mode,\n",
    "    n_jobs=-1,\n",
    "    train_sizes=np.linspace(0.5, 1.0, 2),\n",
    ")\n",
    "\n",
    "train_mean = train_scores.mean(axis=1)\n",
    "val_mean = val_scores.mean(axis=1)\n",
    "\n",
    "df_lc = pd.DataFrame({\"train_sizes\": train_sizes, \"train_scores\": train_mean, \"val_scores\": val_mean})\n",
    "df_lc.to_csv(f\"{filename}.learning_curves.csv\", index=False)"
   ]
  },
  {
   "cell_type": "code",
   "execution_count": null,
   "id": "26",
   "metadata": {},
   "outputs": [],
   "source": [
    "from scipy.ndimage import uniform_filter1d\n",
    "\n",
    "fig, ax = plt.subplots(figsize=(16, 5))\n",
    "\n",
    "# Hauptlinien\n",
    "train_line, = ax.plot(train_sizes, train_mean, label=\"Training score\")\n",
    "val_line, = ax.plot(train_sizes, val_mean, label=\"Validation score\")\n",
    "\n",
    "# Farben extrahieren\n",
    "train_color = train_line.get_color()\n",
    "val_color = val_line.get_color()\n",
    "\n",
    "# Min-/Max-Werte\n",
    "y_lines_min = [train_mean.min(), val_mean.min()]\n",
    "y_lines_max = [train_mean.max(), val_mean.max()]\n",
    "\n",
    "# Hilfslinien\n",
    "for y in y_lines_min:\n",
    "    ax.axhline(y, color=\"red\", linestyle=\"--\", linewidth=0.8, alpha=0.2)\n",
    "for y in y_lines_max:\n",
    "    ax.axhline(y, color=\"green\", linestyle=\"--\", linewidth=0.8, alpha=0.2)\n",
    "\n",
    "# Rollender Durchschnitt (Fenstergröße = 3)\n",
    "train_rolling = uniform_filter1d(train_mean, size=3, mode=\"nearest\")\n",
    "val_rolling = uniform_filter1d(val_mean, size=3, mode=\"nearest\")\n",
    "\n",
    "ax.plot(train_sizes, train_rolling, label=\"Train rolling avg\", linestyle=\":\", linewidth=1.5, color=train_color, alpha=0.5)\n",
    "ax.plot(train_sizes, val_rolling, label=\"Val rolling avg\", linestyle=\":\", linewidth=1.5, color=val_color, alpha=0.5)\n",
    "\n",
    "# y-Ticks\n",
    "yticks = sorted(set(ax.get_yticks().tolist() + y_lines_min + y_lines_max))\n",
    "ax.set_yticks(yticks)\n",
    "\n",
    "ax.set_xlabel(\"Training set size\")\n",
    "ax.set_ylabel(scoring_mode.replace(\"_\", \" \").capitalize())\n",
    "\n",
    "ax.set_title(f\"Learning curve for model '{results[\"timestamp\"]}'\")\n",
    "\n",
    "ax.legend()\n",
    "fig.tight_layout()\n",
    "fig.savefig(f\"{filename}.learning_curve_img.png\", format=\"png\")\n",
    "plt.show()\n"
   ]
  },
  {
   "cell_type": "markdown",
   "id": "27",
   "metadata": {},
   "source": [
    "### Feature Importances"
   ]
  },
  {
   "cell_type": "code",
   "execution_count": null,
   "id": "28",
   "metadata": {},
   "outputs": [],
   "source": [
    "import seaborn as sns\n",
    "from sklearn.metrics import f1_score\n",
    "\n",
    "preprocessed_features_train = preprocessor.transform(features_train_raw)\n",
    "tgt_train_pred = classifier.predict(preprocessed_features_train)\n",
    "\n",
    "f1_base = f1_score(target_train_raw, tgt_train_pred, average='weighted')\n",
    "\n",
    "importances_of_permutations = []\n",
    "for feat in features_train_raw.columns:\n",
    "    features_permutated = features_train_raw.copy()\n",
    "\n",
    "    permutation_run_scores = []\n",
    "    for i in range(5):\n",
    "        series_perm = features_permutated[feat].sample(frac=1, replace=False, random_state=0)\n",
    "        series_perm.reset_index(drop=True, inplace=True)\n",
    "        features_permutated[feat] = series_perm\n",
    "        \n",
    "        preprocessed_features_permutated = preprocessor.transform(features_permutated)\n",
    "        f1_permutated = f1_score(target_train_raw, classifier.predict(preprocessed_features_permutated), average='weighted')\n",
    "        permutation_run_scores.append(f1_base - f1_permutated)\n",
    "\n",
    "    importances_of_permutations.append(np.mean(permutation_run_scores))\n",
    "\n",
    "feature_importances = pd.Series(data=importances_of_permutations, index=features_train_raw.columns)\n",
    "feature_importances.sort_values(ascending=False, inplace=True)\n",
    "\n",
    "with open(f\"{filename}.feature_importances.json\", \"w\") as f:\n",
    "    json.dump(feature_importances.to_dict(), f, indent=2)"
   ]
  },
  {
   "cell_type": "code",
   "execution_count": null,
   "id": "29",
   "metadata": {},
   "outputs": [],
   "source": [
    "fig, ax = plt.subplots(figsize=(16, 0.3*len(features_val_proc.columns)))\n",
    "sns.barplot(x=feature_importances.values, y=feature_importances.index,ax=ax)\n",
    "ax.set_title(f\"feature importances for model '{model_name}'\")\n",
    "for i, (val, label) in enumerate(zip(feature_importances.values, feature_importances.index)):\n",
    "    ax.text(val, i, f\" {val:.4f}\", va=\"center\", ha=\"left\", fontsize=8)\n",
    "    \n",
    "fig.tight_layout()\n",
    "fig.savefig(f\"{filename}.feature_importances.png\", format=\"png\")\n",
    "plt.show()"
   ]
  },
  {
   "cell_type": "markdown",
   "id": "30",
   "metadata": {},
   "source": [
    "## Observations\n",
    "* On The largest class (_no dia_) the model reaches a high precision and high recall. \n",
    "* Class _dia_ is predicted correctly only once.\n",
    "* Class _dia_ has a very low recall.\n",
    "* Class _dia_ is almost always classified as class _no dia_.\n",
    "* Most prediction fall in class _no dia_.\n",
    "* Balanced Accuracy is below 0.38.\n",
    "* With increassing set size precision learning curves for training and validation decrease.\n",
    "* Most important features are `BMI` and `GenHlth`.\n",
    "* Absolute feature importances generally are not very high ~1.5%.\n",
    "\n",
    "## Conclusion\n",
    "* Model is worse than trivial guessing.\n",
    "* The confusion matrix suggests the model\n",
    "    * basically predicts the majority class.\n",
    "    * is not usable for minority class detection.\n",
    "* The learning curves and generally low feature importances suggest the model underfits the data.\n",
    "\n",
    "## Next Steps\n",
    "* Feature Engineering is needed for stronger separation.\n",
    "* Rebalancing of class sizes. (SMOTE)\n",
    "* Use other models."
   ]
  }
 ],
 "metadata": {
  "kernelspec": {
   "display_name": "predict-diabetes-from-brfss2015",
   "language": "python",
   "name": "python3"
  },
  "language_info": {
   "codemirror_mode": {
    "name": "ipython",
    "version": 3
   },
   "file_extension": ".py",
   "mimetype": "text/x-python",
   "name": "python",
   "nbconvert_exporter": "python",
   "pygments_lexer": "ipython3",
   "version": "3.12.11"
  }
 },
 "nbformat": 4,
 "nbformat_minor": 5
}
